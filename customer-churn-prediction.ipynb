{
 "cells": [
  {
   "cell_type": "code",
   "execution_count": 1,
   "id": "418e454f",
   "metadata": {
    "_cell_guid": "b1076dfc-b9ad-4769-8c92-a6c4dae69d19",
    "_uuid": "8f2839f25d086af736a60e9eeb907d3b93b6e0e5",
    "execution": {
     "iopub.execute_input": "2025-09-07T13:23:08.585647Z",
     "iopub.status.busy": "2025-09-07T13:23:08.584702Z",
     "iopub.status.idle": "2025-09-07T13:23:08.598980Z",
     "shell.execute_reply": "2025-09-07T13:23:08.598188Z",
     "shell.execute_reply.started": "2025-09-07T12:56:45.202047Z"
    },
    "papermill": {
     "duration": 0.044897,
     "end_time": "2025-09-07T13:23:08.599157",
     "exception": false,
     "start_time": "2025-09-07T13:23:08.554260",
     "status": "completed"
    },
    "tags": []
   },
   "outputs": [
    {
     "name": "stdout",
     "output_type": "stream",
     "text": [
      "/kaggle/input/credit-card-customer-churn-prediction/Churn_Modelling.csv\n"
     ]
    }
   ],
   "source": [
    "# This Python 3 environment comes with many helpful analytics libraries installed\n",
    "# It is defined by the kaggle/python Docker image: https://github.com/kaggle/docker-python\n",
    "# For example, here's several helpful packages to load\n",
    "\n",
    "import numpy as np # linear algebra\n",
    "import pandas as pd # data processing, CSV file I/O (e.g. pd.read_csv)\n",
    "\n",
    "# Input data files are available in the read-only \"../input/\" directory\n",
    "# For example, running this (by clicking run or pressing Shift+Enter) will list all files under the input directory\n",
    "\n",
    "import os\n",
    "for dirname, _, filenames in os.walk('/kaggle/input'):\n",
    "    for filename in filenames:\n",
    "        print(os.path.join(dirname, filename))\n",
    "\n",
    "# You can write up to 20GB to the current directory (/kaggle/working/) that gets preserved as output when you create a version using \"Save & Run All\" \n",
    "# You can also write temporary files to /kaggle/temp/, but they won't be saved outside of the current session"
   ]
  },
  {
   "cell_type": "code",
   "execution_count": 2,
   "id": "823bd914",
   "metadata": {
    "execution": {
     "iopub.execute_input": "2025-09-07T13:23:08.646050Z",
     "iopub.status.busy": "2025-09-07T13:23:08.645436Z",
     "iopub.status.idle": "2025-09-07T13:23:08.692190Z",
     "shell.execute_reply": "2025-09-07T13:23:08.691651Z",
     "shell.execute_reply.started": "2025-09-07T13:14:19.111722Z"
    },
    "papermill": {
     "duration": 0.072359,
     "end_time": "2025-09-07T13:23:08.692343",
     "exception": false,
     "start_time": "2025-09-07T13:23:08.619984",
     "status": "completed"
    },
    "tags": []
   },
   "outputs": [],
   "source": [
    "df = pd.read_csv('/kaggle/input/credit-card-customer-churn-prediction/Churn_Modelling.csv')"
   ]
  },
  {
   "cell_type": "code",
   "execution_count": 3,
   "id": "c5db3785",
   "metadata": {
    "execution": {
     "iopub.execute_input": "2025-09-07T13:23:08.740837Z",
     "iopub.status.busy": "2025-09-07T13:23:08.735326Z",
     "iopub.status.idle": "2025-09-07T13:23:08.758138Z",
     "shell.execute_reply": "2025-09-07T13:23:08.758626Z",
     "shell.execute_reply.started": "2025-09-07T13:14:22.451452Z"
    },
    "papermill": {
     "duration": 0.046375,
     "end_time": "2025-09-07T13:23:08.758821",
     "exception": false,
     "start_time": "2025-09-07T13:23:08.712446",
     "status": "completed"
    },
    "tags": []
   },
   "outputs": [
    {
     "data": {
      "text/html": [
       "<div>\n",
       "<style scoped>\n",
       "    .dataframe tbody tr th:only-of-type {\n",
       "        vertical-align: middle;\n",
       "    }\n",
       "\n",
       "    .dataframe tbody tr th {\n",
       "        vertical-align: top;\n",
       "    }\n",
       "\n",
       "    .dataframe thead th {\n",
       "        text-align: right;\n",
       "    }\n",
       "</style>\n",
       "<table border=\"1\" class=\"dataframe\">\n",
       "  <thead>\n",
       "    <tr style=\"text-align: right;\">\n",
       "      <th></th>\n",
       "      <th>RowNumber</th>\n",
       "      <th>CustomerId</th>\n",
       "      <th>Surname</th>\n",
       "      <th>CreditScore</th>\n",
       "      <th>Geography</th>\n",
       "      <th>Gender</th>\n",
       "      <th>Age</th>\n",
       "      <th>Tenure</th>\n",
       "      <th>Balance</th>\n",
       "      <th>NumOfProducts</th>\n",
       "      <th>HasCrCard</th>\n",
       "      <th>IsActiveMember</th>\n",
       "      <th>EstimatedSalary</th>\n",
       "      <th>Exited</th>\n",
       "    </tr>\n",
       "  </thead>\n",
       "  <tbody>\n",
       "    <tr>\n",
       "      <th>0</th>\n",
       "      <td>1</td>\n",
       "      <td>15634602</td>\n",
       "      <td>Hargrave</td>\n",
       "      <td>619</td>\n",
       "      <td>France</td>\n",
       "      <td>Female</td>\n",
       "      <td>42</td>\n",
       "      <td>2</td>\n",
       "      <td>0.00</td>\n",
       "      <td>1</td>\n",
       "      <td>1</td>\n",
       "      <td>1</td>\n",
       "      <td>101348.88</td>\n",
       "      <td>1</td>\n",
       "    </tr>\n",
       "    <tr>\n",
       "      <th>1</th>\n",
       "      <td>2</td>\n",
       "      <td>15647311</td>\n",
       "      <td>Hill</td>\n",
       "      <td>608</td>\n",
       "      <td>Spain</td>\n",
       "      <td>Female</td>\n",
       "      <td>41</td>\n",
       "      <td>1</td>\n",
       "      <td>83807.86</td>\n",
       "      <td>1</td>\n",
       "      <td>0</td>\n",
       "      <td>1</td>\n",
       "      <td>112542.58</td>\n",
       "      <td>0</td>\n",
       "    </tr>\n",
       "    <tr>\n",
       "      <th>2</th>\n",
       "      <td>3</td>\n",
       "      <td>15619304</td>\n",
       "      <td>Onio</td>\n",
       "      <td>502</td>\n",
       "      <td>France</td>\n",
       "      <td>Female</td>\n",
       "      <td>42</td>\n",
       "      <td>8</td>\n",
       "      <td>159660.80</td>\n",
       "      <td>3</td>\n",
       "      <td>1</td>\n",
       "      <td>0</td>\n",
       "      <td>113931.57</td>\n",
       "      <td>1</td>\n",
       "    </tr>\n",
       "    <tr>\n",
       "      <th>3</th>\n",
       "      <td>4</td>\n",
       "      <td>15701354</td>\n",
       "      <td>Boni</td>\n",
       "      <td>699</td>\n",
       "      <td>France</td>\n",
       "      <td>Female</td>\n",
       "      <td>39</td>\n",
       "      <td>1</td>\n",
       "      <td>0.00</td>\n",
       "      <td>2</td>\n",
       "      <td>0</td>\n",
       "      <td>0</td>\n",
       "      <td>93826.63</td>\n",
       "      <td>0</td>\n",
       "    </tr>\n",
       "    <tr>\n",
       "      <th>4</th>\n",
       "      <td>5</td>\n",
       "      <td>15737888</td>\n",
       "      <td>Mitchell</td>\n",
       "      <td>850</td>\n",
       "      <td>Spain</td>\n",
       "      <td>Female</td>\n",
       "      <td>43</td>\n",
       "      <td>2</td>\n",
       "      <td>125510.82</td>\n",
       "      <td>1</td>\n",
       "      <td>1</td>\n",
       "      <td>1</td>\n",
       "      <td>79084.10</td>\n",
       "      <td>0</td>\n",
       "    </tr>\n",
       "  </tbody>\n",
       "</table>\n",
       "</div>"
      ],
      "text/plain": [
       "   RowNumber  CustomerId   Surname  CreditScore Geography  Gender  Age  \\\n",
       "0          1    15634602  Hargrave          619    France  Female   42   \n",
       "1          2    15647311      Hill          608     Spain  Female   41   \n",
       "2          3    15619304      Onio          502    France  Female   42   \n",
       "3          4    15701354      Boni          699    France  Female   39   \n",
       "4          5    15737888  Mitchell          850     Spain  Female   43   \n",
       "\n",
       "   Tenure    Balance  NumOfProducts  HasCrCard  IsActiveMember  \\\n",
       "0       2       0.00              1          1               1   \n",
       "1       1   83807.86              1          0               1   \n",
       "2       8  159660.80              3          1               0   \n",
       "3       1       0.00              2          0               0   \n",
       "4       2  125510.82              1          1               1   \n",
       "\n",
       "   EstimatedSalary  Exited  \n",
       "0        101348.88       1  \n",
       "1        112542.58       0  \n",
       "2        113931.57       1  \n",
       "3         93826.63       0  \n",
       "4         79084.10       0  "
      ]
     },
     "execution_count": 3,
     "metadata": {},
     "output_type": "execute_result"
    }
   ],
   "source": [
    "df.head()"
   ]
  },
  {
   "cell_type": "code",
   "execution_count": 4,
   "id": "b016eff2",
   "metadata": {
    "execution": {
     "iopub.execute_input": "2025-09-07T13:23:08.826332Z",
     "iopub.status.busy": "2025-09-07T13:23:08.809622Z",
     "iopub.status.idle": "2025-09-07T13:23:08.829238Z",
     "shell.execute_reply": "2025-09-07T13:23:08.829722Z",
     "shell.execute_reply.started": "2025-09-07T13:14:24.389655Z"
    },
    "papermill": {
     "duration": 0.049898,
     "end_time": "2025-09-07T13:23:08.829904",
     "exception": false,
     "start_time": "2025-09-07T13:23:08.780006",
     "status": "completed"
    },
    "tags": []
   },
   "outputs": [
    {
     "name": "stdout",
     "output_type": "stream",
     "text": [
      "<class 'pandas.core.frame.DataFrame'>\n",
      "RangeIndex: 10000 entries, 0 to 9999\n",
      "Data columns (total 14 columns):\n",
      " #   Column           Non-Null Count  Dtype  \n",
      "---  ------           --------------  -----  \n",
      " 0   RowNumber        10000 non-null  int64  \n",
      " 1   CustomerId       10000 non-null  int64  \n",
      " 2   Surname          10000 non-null  object \n",
      " 3   CreditScore      10000 non-null  int64  \n",
      " 4   Geography        10000 non-null  object \n",
      " 5   Gender           10000 non-null  object \n",
      " 6   Age              10000 non-null  int64  \n",
      " 7   Tenure           10000 non-null  int64  \n",
      " 8   Balance          10000 non-null  float64\n",
      " 9   NumOfProducts    10000 non-null  int64  \n",
      " 10  HasCrCard        10000 non-null  int64  \n",
      " 11  IsActiveMember   10000 non-null  int64  \n",
      " 12  EstimatedSalary  10000 non-null  float64\n",
      " 13  Exited           10000 non-null  int64  \n",
      "dtypes: float64(2), int64(9), object(3)\n",
      "memory usage: 1.1+ MB\n"
     ]
    }
   ],
   "source": [
    "df.info()"
   ]
  },
  {
   "cell_type": "code",
   "execution_count": 5,
   "id": "e525fb25",
   "metadata": {
    "execution": {
     "iopub.execute_input": "2025-09-07T13:23:08.879760Z",
     "iopub.status.busy": "2025-09-07T13:23:08.879118Z",
     "iopub.status.idle": "2025-09-07T13:23:08.882146Z",
     "shell.execute_reply": "2025-09-07T13:23:08.881595Z",
     "shell.execute_reply.started": "2025-09-07T13:14:27.497215Z"
    },
    "papermill": {
     "duration": 0.031591,
     "end_time": "2025-09-07T13:23:08.882289",
     "exception": false,
     "start_time": "2025-09-07T13:23:08.850698",
     "status": "completed"
    },
    "tags": []
   },
   "outputs": [],
   "source": [
    "# df.drop(columns = ['RowNumber','CustomerId','Surname'],inplace=True)\n",
    "df.drop(columns=['RowNumber','CustomerId','Surname'],axis=0,inplace=True)"
   ]
  },
  {
   "cell_type": "code",
   "execution_count": 6,
   "id": "8fa97339",
   "metadata": {
    "execution": {
     "iopub.execute_input": "2025-09-07T13:23:08.938380Z",
     "iopub.status.busy": "2025-09-07T13:23:08.937497Z",
     "iopub.status.idle": "2025-09-07T13:23:08.940791Z",
     "shell.execute_reply": "2025-09-07T13:23:08.941241Z",
     "shell.execute_reply.started": "2025-09-07T13:14:30.574378Z"
    },
    "papermill": {
     "duration": 0.037355,
     "end_time": "2025-09-07T13:23:08.941408",
     "exception": false,
     "start_time": "2025-09-07T13:23:08.904053",
     "status": "completed"
    },
    "tags": []
   },
   "outputs": [
    {
     "data": {
      "text/html": [
       "<div>\n",
       "<style scoped>\n",
       "    .dataframe tbody tr th:only-of-type {\n",
       "        vertical-align: middle;\n",
       "    }\n",
       "\n",
       "    .dataframe tbody tr th {\n",
       "        vertical-align: top;\n",
       "    }\n",
       "\n",
       "    .dataframe thead th {\n",
       "        text-align: right;\n",
       "    }\n",
       "</style>\n",
       "<table border=\"1\" class=\"dataframe\">\n",
       "  <thead>\n",
       "    <tr style=\"text-align: right;\">\n",
       "      <th></th>\n",
       "      <th>CreditScore</th>\n",
       "      <th>Geography</th>\n",
       "      <th>Gender</th>\n",
       "      <th>Age</th>\n",
       "      <th>Tenure</th>\n",
       "      <th>Balance</th>\n",
       "      <th>NumOfProducts</th>\n",
       "      <th>HasCrCard</th>\n",
       "      <th>IsActiveMember</th>\n",
       "      <th>EstimatedSalary</th>\n",
       "      <th>Exited</th>\n",
       "    </tr>\n",
       "  </thead>\n",
       "  <tbody>\n",
       "    <tr>\n",
       "      <th>0</th>\n",
       "      <td>619</td>\n",
       "      <td>France</td>\n",
       "      <td>Female</td>\n",
       "      <td>42</td>\n",
       "      <td>2</td>\n",
       "      <td>0.00</td>\n",
       "      <td>1</td>\n",
       "      <td>1</td>\n",
       "      <td>1</td>\n",
       "      <td>101348.88</td>\n",
       "      <td>1</td>\n",
       "    </tr>\n",
       "    <tr>\n",
       "      <th>1</th>\n",
       "      <td>608</td>\n",
       "      <td>Spain</td>\n",
       "      <td>Female</td>\n",
       "      <td>41</td>\n",
       "      <td>1</td>\n",
       "      <td>83807.86</td>\n",
       "      <td>1</td>\n",
       "      <td>0</td>\n",
       "      <td>1</td>\n",
       "      <td>112542.58</td>\n",
       "      <td>0</td>\n",
       "    </tr>\n",
       "    <tr>\n",
       "      <th>2</th>\n",
       "      <td>502</td>\n",
       "      <td>France</td>\n",
       "      <td>Female</td>\n",
       "      <td>42</td>\n",
       "      <td>8</td>\n",
       "      <td>159660.80</td>\n",
       "      <td>3</td>\n",
       "      <td>1</td>\n",
       "      <td>0</td>\n",
       "      <td>113931.57</td>\n",
       "      <td>1</td>\n",
       "    </tr>\n",
       "    <tr>\n",
       "      <th>3</th>\n",
       "      <td>699</td>\n",
       "      <td>France</td>\n",
       "      <td>Female</td>\n",
       "      <td>39</td>\n",
       "      <td>1</td>\n",
       "      <td>0.00</td>\n",
       "      <td>2</td>\n",
       "      <td>0</td>\n",
       "      <td>0</td>\n",
       "      <td>93826.63</td>\n",
       "      <td>0</td>\n",
       "    </tr>\n",
       "    <tr>\n",
       "      <th>4</th>\n",
       "      <td>850</td>\n",
       "      <td>Spain</td>\n",
       "      <td>Female</td>\n",
       "      <td>43</td>\n",
       "      <td>2</td>\n",
       "      <td>125510.82</td>\n",
       "      <td>1</td>\n",
       "      <td>1</td>\n",
       "      <td>1</td>\n",
       "      <td>79084.10</td>\n",
       "      <td>0</td>\n",
       "    </tr>\n",
       "  </tbody>\n",
       "</table>\n",
       "</div>"
      ],
      "text/plain": [
       "   CreditScore Geography  Gender  Age  Tenure    Balance  NumOfProducts  \\\n",
       "0          619    France  Female   42       2       0.00              1   \n",
       "1          608     Spain  Female   41       1   83807.86              1   \n",
       "2          502    France  Female   42       8  159660.80              3   \n",
       "3          699    France  Female   39       1       0.00              2   \n",
       "4          850     Spain  Female   43       2  125510.82              1   \n",
       "\n",
       "   HasCrCard  IsActiveMember  EstimatedSalary  Exited  \n",
       "0          1               1        101348.88       1  \n",
       "1          0               1        112542.58       0  \n",
       "2          1               0        113931.57       1  \n",
       "3          0               0         93826.63       0  \n",
       "4          1               1         79084.10       0  "
      ]
     },
     "execution_count": 6,
     "metadata": {},
     "output_type": "execute_result"
    }
   ],
   "source": [
    "df.head()"
   ]
  },
  {
   "cell_type": "code",
   "execution_count": 7,
   "id": "9fe015af",
   "metadata": {
    "execution": {
     "iopub.execute_input": "2025-09-07T13:23:08.997237Z",
     "iopub.status.busy": "2025-09-07T13:23:08.996321Z",
     "iopub.status.idle": "2025-09-07T13:23:08.999802Z",
     "shell.execute_reply": "2025-09-07T13:23:09.000296Z",
     "shell.execute_reply.started": "2025-09-07T13:14:33.368507Z"
    },
    "papermill": {
     "duration": 0.03417,
     "end_time": "2025-09-07T13:23:09.000464",
     "exception": false,
     "start_time": "2025-09-07T13:23:08.966294",
     "status": "completed"
    },
    "tags": []
   },
   "outputs": [
    {
     "data": {
      "text/plain": [
       "France     5014\n",
       "Germany    2509\n",
       "Spain      2477\n",
       "Name: Geography, dtype: int64"
      ]
     },
     "execution_count": 7,
     "metadata": {},
     "output_type": "execute_result"
    }
   ],
   "source": [
    "df['Geography'].value_counts()"
   ]
  },
  {
   "cell_type": "code",
   "execution_count": 8,
   "id": "f6744aec",
   "metadata": {
    "execution": {
     "iopub.execute_input": "2025-09-07T13:23:09.053486Z",
     "iopub.status.busy": "2025-09-07T13:23:09.052620Z",
     "iopub.status.idle": "2025-09-07T13:23:09.055716Z",
     "shell.execute_reply": "2025-09-07T13:23:09.056178Z",
     "shell.execute_reply.started": "2025-09-07T13:14:35.318900Z"
    },
    "papermill": {
     "duration": 0.033146,
     "end_time": "2025-09-07T13:23:09.056338",
     "exception": false,
     "start_time": "2025-09-07T13:23:09.023192",
     "status": "completed"
    },
    "tags": []
   },
   "outputs": [
    {
     "data": {
      "text/plain": [
       "Male      5457\n",
       "Female    4543\n",
       "Name: Gender, dtype: int64"
      ]
     },
     "execution_count": 8,
     "metadata": {},
     "output_type": "execute_result"
    }
   ],
   "source": [
    "df['Gender'].value_counts()"
   ]
  },
  {
   "cell_type": "code",
   "execution_count": 9,
   "id": "e24141b5",
   "metadata": {
    "execution": {
     "iopub.execute_input": "2025-09-07T13:23:09.108228Z",
     "iopub.status.busy": "2025-09-07T13:23:09.107531Z",
     "iopub.status.idle": "2025-09-07T13:23:09.115348Z",
     "shell.execute_reply": "2025-09-07T13:23:09.115830Z",
     "shell.execute_reply.started": "2025-09-07T13:14:37.598017Z"
    },
    "papermill": {
     "duration": 0.037659,
     "end_time": "2025-09-07T13:23:09.115998",
     "exception": false,
     "start_time": "2025-09-07T13:23:09.078339",
     "status": "completed"
    },
    "tags": []
   },
   "outputs": [],
   "source": [
    "#df = pd.get_dummies(df,columns=['Geography','Gender'],drop_first=True)\n",
    "df=pd.get_dummies(df,columns=['Geography','Gender'],drop_first=True)\n"
   ]
  },
  {
   "cell_type": "code",
   "execution_count": 10,
   "id": "7b3adfbd",
   "metadata": {
    "execution": {
     "iopub.execute_input": "2025-09-07T13:23:09.172559Z",
     "iopub.status.busy": "2025-09-07T13:23:09.169661Z",
     "iopub.status.idle": "2025-09-07T13:23:09.175720Z",
     "shell.execute_reply": "2025-09-07T13:23:09.176241Z",
     "shell.execute_reply.started": "2025-09-07T13:14:40.113520Z"
    },
    "papermill": {
     "duration": 0.038574,
     "end_time": "2025-09-07T13:23:09.176416",
     "exception": false,
     "start_time": "2025-09-07T13:23:09.137842",
     "status": "completed"
    },
    "tags": []
   },
   "outputs": [
    {
     "data": {
      "text/html": [
       "<div>\n",
       "<style scoped>\n",
       "    .dataframe tbody tr th:only-of-type {\n",
       "        vertical-align: middle;\n",
       "    }\n",
       "\n",
       "    .dataframe tbody tr th {\n",
       "        vertical-align: top;\n",
       "    }\n",
       "\n",
       "    .dataframe thead th {\n",
       "        text-align: right;\n",
       "    }\n",
       "</style>\n",
       "<table border=\"1\" class=\"dataframe\">\n",
       "  <thead>\n",
       "    <tr style=\"text-align: right;\">\n",
       "      <th></th>\n",
       "      <th>CreditScore</th>\n",
       "      <th>Age</th>\n",
       "      <th>Tenure</th>\n",
       "      <th>Balance</th>\n",
       "      <th>NumOfProducts</th>\n",
       "      <th>HasCrCard</th>\n",
       "      <th>IsActiveMember</th>\n",
       "      <th>EstimatedSalary</th>\n",
       "      <th>Exited</th>\n",
       "      <th>Geography_Germany</th>\n",
       "      <th>Geography_Spain</th>\n",
       "      <th>Gender_Male</th>\n",
       "    </tr>\n",
       "  </thead>\n",
       "  <tbody>\n",
       "    <tr>\n",
       "      <th>0</th>\n",
       "      <td>619</td>\n",
       "      <td>42</td>\n",
       "      <td>2</td>\n",
       "      <td>0.00</td>\n",
       "      <td>1</td>\n",
       "      <td>1</td>\n",
       "      <td>1</td>\n",
       "      <td>101348.88</td>\n",
       "      <td>1</td>\n",
       "      <td>0</td>\n",
       "      <td>0</td>\n",
       "      <td>0</td>\n",
       "    </tr>\n",
       "    <tr>\n",
       "      <th>1</th>\n",
       "      <td>608</td>\n",
       "      <td>41</td>\n",
       "      <td>1</td>\n",
       "      <td>83807.86</td>\n",
       "      <td>1</td>\n",
       "      <td>0</td>\n",
       "      <td>1</td>\n",
       "      <td>112542.58</td>\n",
       "      <td>0</td>\n",
       "      <td>0</td>\n",
       "      <td>1</td>\n",
       "      <td>0</td>\n",
       "    </tr>\n",
       "    <tr>\n",
       "      <th>2</th>\n",
       "      <td>502</td>\n",
       "      <td>42</td>\n",
       "      <td>8</td>\n",
       "      <td>159660.80</td>\n",
       "      <td>3</td>\n",
       "      <td>1</td>\n",
       "      <td>0</td>\n",
       "      <td>113931.57</td>\n",
       "      <td>1</td>\n",
       "      <td>0</td>\n",
       "      <td>0</td>\n",
       "      <td>0</td>\n",
       "    </tr>\n",
       "    <tr>\n",
       "      <th>3</th>\n",
       "      <td>699</td>\n",
       "      <td>39</td>\n",
       "      <td>1</td>\n",
       "      <td>0.00</td>\n",
       "      <td>2</td>\n",
       "      <td>0</td>\n",
       "      <td>0</td>\n",
       "      <td>93826.63</td>\n",
       "      <td>0</td>\n",
       "      <td>0</td>\n",
       "      <td>0</td>\n",
       "      <td>0</td>\n",
       "    </tr>\n",
       "    <tr>\n",
       "      <th>4</th>\n",
       "      <td>850</td>\n",
       "      <td>43</td>\n",
       "      <td>2</td>\n",
       "      <td>125510.82</td>\n",
       "      <td>1</td>\n",
       "      <td>1</td>\n",
       "      <td>1</td>\n",
       "      <td>79084.10</td>\n",
       "      <td>0</td>\n",
       "      <td>0</td>\n",
       "      <td>1</td>\n",
       "      <td>0</td>\n",
       "    </tr>\n",
       "  </tbody>\n",
       "</table>\n",
       "</div>"
      ],
      "text/plain": [
       "   CreditScore  Age  Tenure    Balance  NumOfProducts  HasCrCard  \\\n",
       "0          619   42       2       0.00              1          1   \n",
       "1          608   41       1   83807.86              1          0   \n",
       "2          502   42       8  159660.80              3          1   \n",
       "3          699   39       1       0.00              2          0   \n",
       "4          850   43       2  125510.82              1          1   \n",
       "\n",
       "   IsActiveMember  EstimatedSalary  Exited  Geography_Germany  \\\n",
       "0               1        101348.88       1                  0   \n",
       "1               1        112542.58       0                  0   \n",
       "2               0        113931.57       1                  0   \n",
       "3               0         93826.63       0                  0   \n",
       "4               1         79084.10       0                  0   \n",
       "\n",
       "   Geography_Spain  Gender_Male  \n",
       "0                0            0  \n",
       "1                1            0  \n",
       "2                0            0  \n",
       "3                0            0  \n",
       "4                1            0  "
      ]
     },
     "execution_count": 10,
     "metadata": {},
     "output_type": "execute_result"
    }
   ],
   "source": [
    "df.head()"
   ]
  },
  {
   "cell_type": "code",
   "execution_count": 11,
   "id": "d32df2da",
   "metadata": {
    "execution": {
     "iopub.execute_input": "2025-09-07T13:23:09.232103Z",
     "iopub.status.busy": "2025-09-07T13:23:09.231394Z",
     "iopub.status.idle": "2025-09-07T13:23:09.238386Z",
     "shell.execute_reply": "2025-09-07T13:23:09.237769Z",
     "shell.execute_reply.started": "2025-09-07T13:14:42.664025Z"
    },
    "papermill": {
     "duration": 0.038372,
     "end_time": "2025-09-07T13:23:09.238521",
     "exception": false,
     "start_time": "2025-09-07T13:23:09.200149",
     "status": "completed"
    },
    "tags": []
   },
   "outputs": [
    {
     "data": {
      "text/plain": [
       "0.00         3617\n",
       "130170.82       2\n",
       "105473.74       2\n",
       "85304.27        1\n",
       "159397.75       1\n",
       "             ... \n",
       "81556.89        1\n",
       "112687.69       1\n",
       "108698.96       1\n",
       "238387.56       1\n",
       "130142.79       1\n",
       "Name: Balance, Length: 6382, dtype: int64"
      ]
     },
     "execution_count": 11,
     "metadata": {},
     "output_type": "execute_result"
    }
   ],
   "source": [
    "df['Balance'].value_counts()"
   ]
  },
  {
   "cell_type": "code",
   "execution_count": 12,
   "id": "f4f0f0c8",
   "metadata": {
    "execution": {
     "iopub.execute_input": "2025-09-07T13:23:09.292243Z",
     "iopub.status.busy": "2025-09-07T13:23:09.291255Z",
     "iopub.status.idle": "2025-09-07T13:23:09.297046Z",
     "shell.execute_reply": "2025-09-07T13:23:09.296494Z",
     "shell.execute_reply.started": "2025-09-07T13:14:45.647097Z"
    },
    "papermill": {
     "duration": 0.034745,
     "end_time": "2025-09-07T13:23:09.297196",
     "exception": false,
     "start_time": "2025-09-07T13:23:09.262451",
     "status": "completed"
    },
    "tags": []
   },
   "outputs": [],
   "source": [
    "# X = df.drop(columns=['Exited'])\n",
    "# y = df['Exited'].values\n",
    "X=df.drop(columns=['Exited'])\n",
    "y=df[\"Exited\"].values"
   ]
  },
  {
   "cell_type": "code",
   "execution_count": 13,
   "id": "1ef42bdb",
   "metadata": {
    "execution": {
     "iopub.execute_input": "2025-09-07T13:23:09.348278Z",
     "iopub.status.busy": "2025-09-07T13:23:09.347595Z",
     "iopub.status.idle": "2025-09-07T13:23:10.415609Z",
     "shell.execute_reply": "2025-09-07T13:23:10.415112Z",
     "shell.execute_reply.started": "2025-09-07T13:08:23.765835Z"
    },
    "papermill": {
     "duration": 1.095438,
     "end_time": "2025-09-07T13:23:10.415767",
     "exception": false,
     "start_time": "2025-09-07T13:23:09.320329",
     "status": "completed"
    },
    "tags": []
   },
   "outputs": [],
   "source": [
    "\n",
    "from sklearn.model_selection import train_test_split\n",
    "X_train,X_test,y_train,y_test = train_test_split(X,y,test_size=0.2,random_state=0)"
   ]
  },
  {
   "cell_type": "code",
   "execution_count": 14,
   "id": "77c6b720",
   "metadata": {
    "execution": {
     "iopub.execute_input": "2025-09-07T13:23:10.470989Z",
     "iopub.status.busy": "2025-09-07T13:23:10.470240Z",
     "iopub.status.idle": "2025-09-07T13:23:10.480088Z",
     "shell.execute_reply": "2025-09-07T13:23:10.479560Z",
     "shell.execute_reply.started": "2025-09-07T13:14:49.297028Z"
    },
    "papermill": {
     "duration": 0.041642,
     "end_time": "2025-09-07T13:23:10.480247",
     "exception": false,
     "start_time": "2025-09-07T13:23:10.438605",
     "status": "completed"
    },
    "tags": []
   },
   "outputs": [],
   "source": [
    "from sklearn.preprocessing import StandardScaler\n",
    "scaler = StandardScaler()\n",
    "\n",
    "X_train_trf = scaler.fit_transform(X_train)\n",
    "X_test_trf = scaler.transform(X_test)"
   ]
  },
  {
   "cell_type": "code",
   "execution_count": 15,
   "id": "ccaf631e",
   "metadata": {
    "execution": {
     "iopub.execute_input": "2025-09-07T13:23:10.531403Z",
     "iopub.status.busy": "2025-09-07T13:23:10.530656Z",
     "iopub.status.idle": "2025-09-07T13:23:16.500428Z",
     "shell.execute_reply": "2025-09-07T13:23:16.500919Z",
     "shell.execute_reply.started": "2025-09-07T13:14:53.262816Z"
    },
    "papermill": {
     "duration": 5.997677,
     "end_time": "2025-09-07T13:23:16.501118",
     "exception": false,
     "start_time": "2025-09-07T13:23:10.503441",
     "status": "completed"
    },
    "tags": []
   },
   "outputs": [],
   "source": [
    "import tensorflow\n",
    "from tensorflow import keras\n",
    "from tensorflow.keras import Sequential\n",
    "from tensorflow.keras.layers import Dense"
   ]
  },
  {
   "cell_type": "code",
   "execution_count": 16,
   "id": "b8ceb9a2",
   "metadata": {
    "execution": {
     "iopub.execute_input": "2025-09-07T13:23:16.552535Z",
     "iopub.status.busy": "2025-09-07T13:23:16.551902Z",
     "iopub.status.idle": "2025-09-07T13:23:16.663989Z",
     "shell.execute_reply": "2025-09-07T13:23:16.664451Z",
     "shell.execute_reply.started": "2025-09-07T13:15:17.514342Z"
    },
    "papermill": {
     "duration": 0.140433,
     "end_time": "2025-09-07T13:23:16.664640",
     "exception": false,
     "start_time": "2025-09-07T13:23:16.524207",
     "status": "completed"
    },
    "tags": []
   },
   "outputs": [],
   "source": [
    "model=Sequential()\n",
    "\n",
    "model.add(Dense(5,activation='sigmoid',input_dim=11))\n",
    "model.add(Dense(11,activation='sigmoid'))\n",
    "model.add(Dense(1,activation='sigmoid'))\n"
   ]
  },
  {
   "cell_type": "code",
   "execution_count": 17,
   "id": "e40575b7",
   "metadata": {
    "execution": {
     "iopub.execute_input": "2025-09-07T13:23:16.716216Z",
     "iopub.status.busy": "2025-09-07T13:23:16.714829Z",
     "iopub.status.idle": "2025-09-07T13:23:16.719929Z",
     "shell.execute_reply": "2025-09-07T13:23:16.720384Z",
     "shell.execute_reply.started": "2025-09-07T13:12:48.906446Z"
    },
    "papermill": {
     "duration": 0.033069,
     "end_time": "2025-09-07T13:23:16.720557",
     "exception": false,
     "start_time": "2025-09-07T13:23:16.687488",
     "status": "completed"
    },
    "tags": []
   },
   "outputs": [
    {
     "name": "stdout",
     "output_type": "stream",
     "text": [
      "Model: \"sequential\"\n",
      "_________________________________________________________________\n",
      "Layer (type)                 Output Shape              Param #   \n",
      "=================================================================\n",
      "dense (Dense)                (None, 5)                 60        \n",
      "_________________________________________________________________\n",
      "dense_1 (Dense)              (None, 11)                66        \n",
      "_________________________________________________________________\n",
      "dense_2 (Dense)              (None, 1)                 12        \n",
      "=================================================================\n",
      "Total params: 138\n",
      "Trainable params: 138\n",
      "Non-trainable params: 0\n",
      "_________________________________________________________________\n"
     ]
    }
   ],
   "source": [
    "model.summary()"
   ]
  },
  {
   "cell_type": "code",
   "execution_count": 18,
   "id": "85b95811",
   "metadata": {
    "execution": {
     "iopub.execute_input": "2025-09-07T13:23:16.776704Z",
     "iopub.status.busy": "2025-09-07T13:23:16.772469Z",
     "iopub.status.idle": "2025-09-07T13:23:16.782811Z",
     "shell.execute_reply": "2025-09-07T13:23:16.783280Z",
     "shell.execute_reply.started": "2025-09-07T13:16:41.969019Z"
    },
    "papermill": {
     "duration": 0.039909,
     "end_time": "2025-09-07T13:23:16.783471",
     "exception": false,
     "start_time": "2025-09-07T13:23:16.743562",
     "status": "completed"
    },
    "tags": []
   },
   "outputs": [],
   "source": [
    "model.compile(optimizer='Adam',loss='binary_crossentropy',metrics=['accuracy'])"
   ]
  },
  {
   "cell_type": "code",
   "execution_count": 19,
   "id": "66d037ac",
   "metadata": {
    "execution": {
     "iopub.execute_input": "2025-09-07T13:23:16.836396Z",
     "iopub.status.busy": "2025-09-07T13:23:16.835629Z",
     "iopub.status.idle": "2025-09-07T13:23:43.794869Z",
     "shell.execute_reply": "2025-09-07T13:23:43.794307Z",
     "shell.execute_reply.started": "2025-09-07T13:18:02.534563Z"
    },
    "papermill": {
     "duration": 26.988552,
     "end_time": "2025-09-07T13:23:43.795016",
     "exception": false,
     "start_time": "2025-09-07T13:23:16.806464",
     "status": "completed"
    },
    "tags": []
   },
   "outputs": [
    {
     "name": "stdout",
     "output_type": "stream",
     "text": [
      "Epoch 1/100\n",
      "128/128 [==============================] - 1s 4ms/step - loss: 0.5330 - accuracy: 0.7958 - val_loss: 0.5068 - val_accuracy: 0.7969\n",
      "Epoch 2/100\n",
      "128/128 [==============================] - 0s 2ms/step - loss: 0.5069 - accuracy: 0.7958 - val_loss: 0.5050 - val_accuracy: 0.7969\n",
      "Epoch 3/100\n",
      "128/128 [==============================] - 0s 2ms/step - loss: 0.5065 - accuracy: 0.7958 - val_loss: 0.5043 - val_accuracy: 0.7969\n",
      "Epoch 4/100\n",
      "128/128 [==============================] - 0s 2ms/step - loss: 0.5061 - accuracy: 0.7958 - val_loss: 0.5037 - val_accuracy: 0.7969\n",
      "Epoch 5/100\n",
      "128/128 [==============================] - 0s 2ms/step - loss: 0.5058 - accuracy: 0.7958 - val_loss: 0.5032 - val_accuracy: 0.7969\n",
      "Epoch 6/100\n",
      "128/128 [==============================] - 0s 2ms/step - loss: 0.5056 - accuracy: 0.7958 - val_loss: 0.5029 - val_accuracy: 0.7969\n",
      "Epoch 7/100\n",
      "128/128 [==============================] - 0s 2ms/step - loss: 0.5055 - accuracy: 0.7958 - val_loss: 0.5027 - val_accuracy: 0.7969\n",
      "Epoch 8/100\n",
      "128/128 [==============================] - 0s 2ms/step - loss: 0.5055 - accuracy: 0.7958 - val_loss: 0.5024 - val_accuracy: 0.7969\n",
      "Epoch 9/100\n",
      "128/128 [==============================] - 0s 2ms/step - loss: 0.5056 - accuracy: 0.7958 - val_loss: 0.5024 - val_accuracy: 0.7969\n",
      "Epoch 10/100\n",
      "128/128 [==============================] - 0s 2ms/step - loss: 0.5055 - accuracy: 0.7958 - val_loss: 0.5022 - val_accuracy: 0.7969\n",
      "Epoch 11/100\n",
      "128/128 [==============================] - 0s 2ms/step - loss: 0.5054 - accuracy: 0.7958 - val_loss: 0.5021 - val_accuracy: 0.7969\n",
      "Epoch 12/100\n",
      "128/128 [==============================] - 0s 2ms/step - loss: 0.5054 - accuracy: 0.7958 - val_loss: 0.5020 - val_accuracy: 0.7969\n",
      "Epoch 13/100\n",
      "128/128 [==============================] - 0s 2ms/step - loss: 0.5053 - accuracy: 0.7958 - val_loss: 0.5020 - val_accuracy: 0.7969\n",
      "Epoch 14/100\n",
      "128/128 [==============================] - 0s 2ms/step - loss: 0.5053 - accuracy: 0.7958 - val_loss: 0.5019 - val_accuracy: 0.7969\n",
      "Epoch 15/100\n",
      "128/128 [==============================] - 0s 2ms/step - loss: 0.5054 - accuracy: 0.7958 - val_loss: 0.5018 - val_accuracy: 0.7969\n",
      "Epoch 16/100\n",
      "128/128 [==============================] - 0s 2ms/step - loss: 0.5053 - accuracy: 0.7958 - val_loss: 0.5019 - val_accuracy: 0.7969\n",
      "Epoch 17/100\n",
      "128/128 [==============================] - 0s 2ms/step - loss: 0.5054 - accuracy: 0.7958 - val_loss: 0.5019 - val_accuracy: 0.7969\n",
      "Epoch 18/100\n",
      "128/128 [==============================] - 0s 2ms/step - loss: 0.5052 - accuracy: 0.7958 - val_loss: 0.5018 - val_accuracy: 0.7969\n",
      "Epoch 19/100\n",
      "128/128 [==============================] - 0s 2ms/step - loss: 0.5052 - accuracy: 0.7958 - val_loss: 0.5020 - val_accuracy: 0.7969\n",
      "Epoch 20/100\n",
      "128/128 [==============================] - 0s 2ms/step - loss: 0.5053 - accuracy: 0.7958 - val_loss: 0.5018 - val_accuracy: 0.7969\n",
      "Epoch 21/100\n",
      "128/128 [==============================] - 0s 2ms/step - loss: 0.5053 - accuracy: 0.7958 - val_loss: 0.5019 - val_accuracy: 0.7969\n",
      "Epoch 22/100\n",
      "128/128 [==============================] - 0s 2ms/step - loss: 0.5054 - accuracy: 0.7958 - val_loss: 0.5017 - val_accuracy: 0.7969\n",
      "Epoch 23/100\n",
      "128/128 [==============================] - 0s 2ms/step - loss: 0.5051 - accuracy: 0.7958 - val_loss: 0.5019 - val_accuracy: 0.7969\n",
      "Epoch 24/100\n",
      "128/128 [==============================] - 0s 2ms/step - loss: 0.5055 - accuracy: 0.7958 - val_loss: 0.5017 - val_accuracy: 0.7969\n",
      "Epoch 25/100\n",
      "128/128 [==============================] - 0s 2ms/step - loss: 0.5053 - accuracy: 0.7958 - val_loss: 0.5017 - val_accuracy: 0.7969\n",
      "Epoch 26/100\n",
      "128/128 [==============================] - 0s 2ms/step - loss: 0.5054 - accuracy: 0.7958 - val_loss: 0.5019 - val_accuracy: 0.7969\n",
      "Epoch 27/100\n",
      "128/128 [==============================] - 0s 2ms/step - loss: 0.5054 - accuracy: 0.7958 - val_loss: 0.5017 - val_accuracy: 0.7969\n",
      "Epoch 28/100\n",
      "128/128 [==============================] - 0s 2ms/step - loss: 0.5052 - accuracy: 0.7958 - val_loss: 0.5019 - val_accuracy: 0.7969\n",
      "Epoch 29/100\n",
      "128/128 [==============================] - 0s 2ms/step - loss: 0.5054 - accuracy: 0.7958 - val_loss: 0.5018 - val_accuracy: 0.7969\n",
      "Epoch 30/100\n",
      "128/128 [==============================] - 0s 2ms/step - loss: 0.5053 - accuracy: 0.7958 - val_loss: 0.5017 - val_accuracy: 0.7969\n",
      "Epoch 31/100\n",
      "128/128 [==============================] - 0s 2ms/step - loss: 0.5053 - accuracy: 0.7958 - val_loss: 0.5018 - val_accuracy: 0.7969\n",
      "Epoch 32/100\n",
      "128/128 [==============================] - 0s 2ms/step - loss: 0.5053 - accuracy: 0.7958 - val_loss: 0.5017 - val_accuracy: 0.7969\n",
      "Epoch 33/100\n",
      "128/128 [==============================] - 0s 2ms/step - loss: 0.5052 - accuracy: 0.7958 - val_loss: 0.5018 - val_accuracy: 0.7969\n",
      "Epoch 34/100\n",
      "128/128 [==============================] - 0s 2ms/step - loss: 0.5054 - accuracy: 0.7958 - val_loss: 0.5017 - val_accuracy: 0.7969\n",
      "Epoch 35/100\n",
      "128/128 [==============================] - 0s 2ms/step - loss: 0.5054 - accuracy: 0.7958 - val_loss: 0.5018 - val_accuracy: 0.7969\n",
      "Epoch 36/100\n",
      "128/128 [==============================] - 0s 2ms/step - loss: 0.5054 - accuracy: 0.7958 - val_loss: 0.5017 - val_accuracy: 0.7969\n",
      "Epoch 37/100\n",
      "128/128 [==============================] - 0s 2ms/step - loss: 0.5053 - accuracy: 0.7958 - val_loss: 0.5017 - val_accuracy: 0.7969\n",
      "Epoch 38/100\n",
      "128/128 [==============================] - 0s 3ms/step - loss: 0.5053 - accuracy: 0.7958 - val_loss: 0.5018 - val_accuracy: 0.7969\n",
      "Epoch 39/100\n",
      "128/128 [==============================] - 0s 2ms/step - loss: 0.5053 - accuracy: 0.7958 - val_loss: 0.5018 - val_accuracy: 0.7969\n",
      "Epoch 40/100\n",
      "128/128 [==============================] - 0s 2ms/step - loss: 0.5053 - accuracy: 0.7958 - val_loss: 0.5018 - val_accuracy: 0.7969\n",
      "Epoch 41/100\n",
      "128/128 [==============================] - 0s 2ms/step - loss: 0.5054 - accuracy: 0.7958 - val_loss: 0.5017 - val_accuracy: 0.7969\n",
      "Epoch 42/100\n",
      "128/128 [==============================] - 0s 2ms/step - loss: 0.5052 - accuracy: 0.7958 - val_loss: 0.5017 - val_accuracy: 0.7969\n",
      "Epoch 43/100\n",
      "128/128 [==============================] - 0s 2ms/step - loss: 0.5054 - accuracy: 0.7958 - val_loss: 0.5015 - val_accuracy: 0.7969\n",
      "Epoch 44/100\n",
      "128/128 [==============================] - 0s 2ms/step - loss: 0.5053 - accuracy: 0.7958 - val_loss: 0.5015 - val_accuracy: 0.7969\n",
      "Epoch 45/100\n",
      "128/128 [==============================] - 0s 2ms/step - loss: 0.5051 - accuracy: 0.7958 - val_loss: 0.5016 - val_accuracy: 0.7969\n",
      "Epoch 46/100\n",
      "128/128 [==============================] - 0s 2ms/step - loss: 0.5053 - accuracy: 0.7958 - val_loss: 0.5014 - val_accuracy: 0.7969\n",
      "Epoch 47/100\n",
      "128/128 [==============================] - 0s 2ms/step - loss: 0.5052 - accuracy: 0.7958 - val_loss: 0.5014 - val_accuracy: 0.7969\n",
      "Epoch 48/100\n",
      "128/128 [==============================] - 0s 2ms/step - loss: 0.5052 - accuracy: 0.7958 - val_loss: 0.5014 - val_accuracy: 0.7969\n",
      "Epoch 49/100\n",
      "128/128 [==============================] - 0s 2ms/step - loss: 0.5052 - accuracy: 0.7958 - val_loss: 0.5015 - val_accuracy: 0.7969\n",
      "Epoch 50/100\n",
      "128/128 [==============================] - 0s 2ms/step - loss: 0.5052 - accuracy: 0.7958 - val_loss: 0.5014 - val_accuracy: 0.7969\n",
      "Epoch 51/100\n",
      "128/128 [==============================] - 0s 2ms/step - loss: 0.5052 - accuracy: 0.7958 - val_loss: 0.5016 - val_accuracy: 0.7969\n",
      "Epoch 52/100\n",
      "128/128 [==============================] - 0s 2ms/step - loss: 0.5052 - accuracy: 0.7958 - val_loss: 0.5014 - val_accuracy: 0.7969\n",
      "Epoch 53/100\n",
      "128/128 [==============================] - 0s 2ms/step - loss: 0.5053 - accuracy: 0.7958 - val_loss: 0.5013 - val_accuracy: 0.7969\n",
      "Epoch 54/100\n",
      "128/128 [==============================] - 0s 2ms/step - loss: 0.5052 - accuracy: 0.7958 - val_loss: 0.5014 - val_accuracy: 0.7969\n",
      "Epoch 55/100\n",
      "128/128 [==============================] - 0s 2ms/step - loss: 0.5052 - accuracy: 0.7958 - val_loss: 0.5013 - val_accuracy: 0.7969\n",
      "Epoch 56/100\n",
      "128/128 [==============================] - 0s 2ms/step - loss: 0.5052 - accuracy: 0.7958 - val_loss: 0.5014 - val_accuracy: 0.7969\n",
      "Epoch 57/100\n",
      "128/128 [==============================] - 0s 2ms/step - loss: 0.5051 - accuracy: 0.7958 - val_loss: 0.5014 - val_accuracy: 0.7969\n",
      "Epoch 58/100\n",
      "128/128 [==============================] - 0s 2ms/step - loss: 0.5053 - accuracy: 0.7958 - val_loss: 0.5014 - val_accuracy: 0.7969\n",
      "Epoch 59/100\n",
      "128/128 [==============================] - 0s 2ms/step - loss: 0.5053 - accuracy: 0.7958 - val_loss: 0.5013 - val_accuracy: 0.7969\n",
      "Epoch 60/100\n",
      "128/128 [==============================] - 0s 2ms/step - loss: 0.5053 - accuracy: 0.7958 - val_loss: 0.5013 - val_accuracy: 0.7969\n",
      "Epoch 61/100\n",
      "128/128 [==============================] - 0s 2ms/step - loss: 0.5054 - accuracy: 0.7958 - val_loss: 0.5013 - val_accuracy: 0.7969\n",
      "Epoch 62/100\n",
      "128/128 [==============================] - 0s 2ms/step - loss: 0.5053 - accuracy: 0.7958 - val_loss: 0.5013 - val_accuracy: 0.7969\n",
      "Epoch 63/100\n",
      "128/128 [==============================] - 0s 2ms/step - loss: 0.5050 - accuracy: 0.7958 - val_loss: 0.5015 - val_accuracy: 0.7969\n",
      "Epoch 64/100\n",
      "128/128 [==============================] - 0s 2ms/step - loss: 0.5052 - accuracy: 0.7958 - val_loss: 0.5013 - val_accuracy: 0.7969\n",
      "Epoch 65/100\n",
      "128/128 [==============================] - 0s 2ms/step - loss: 0.5052 - accuracy: 0.7958 - val_loss: 0.5013 - val_accuracy: 0.7969\n",
      "Epoch 66/100\n",
      "128/128 [==============================] - 0s 2ms/step - loss: 0.5052 - accuracy: 0.7958 - val_loss: 0.5013 - val_accuracy: 0.7969\n",
      "Epoch 67/100\n",
      "128/128 [==============================] - 0s 2ms/step - loss: 0.5052 - accuracy: 0.7958 - val_loss: 0.5013 - val_accuracy: 0.7969\n",
      "Epoch 68/100\n",
      "128/128 [==============================] - 0s 2ms/step - loss: 0.5052 - accuracy: 0.7958 - val_loss: 0.5013 - val_accuracy: 0.7969\n",
      "Epoch 69/100\n",
      "128/128 [==============================] - 0s 2ms/step - loss: 0.5052 - accuracy: 0.7958 - val_loss: 0.5013 - val_accuracy: 0.7969\n",
      "Epoch 70/100\n",
      "128/128 [==============================] - 0s 2ms/step - loss: 0.5053 - accuracy: 0.7958 - val_loss: 0.5013 - val_accuracy: 0.7969\n",
      "Epoch 71/100\n",
      "128/128 [==============================] - 0s 2ms/step - loss: 0.5053 - accuracy: 0.7958 - val_loss: 0.5013 - val_accuracy: 0.7969\n",
      "Epoch 72/100\n",
      "128/128 [==============================] - 0s 2ms/step - loss: 0.5051 - accuracy: 0.7958 - val_loss: 0.5013 - val_accuracy: 0.7969\n",
      "Epoch 73/100\n",
      "128/128 [==============================] - 0s 2ms/step - loss: 0.5051 - accuracy: 0.7958 - val_loss: 0.5014 - val_accuracy: 0.7969\n",
      "Epoch 74/100\n",
      "128/128 [==============================] - 0s 2ms/step - loss: 0.5052 - accuracy: 0.7958 - val_loss: 0.5013 - val_accuracy: 0.7969\n",
      "Epoch 75/100\n",
      "128/128 [==============================] - 0s 2ms/step - loss: 0.5051 - accuracy: 0.7958 - val_loss: 0.5013 - val_accuracy: 0.7969\n",
      "Epoch 76/100\n",
      "128/128 [==============================] - 0s 2ms/step - loss: 0.5053 - accuracy: 0.7958 - val_loss: 0.5013 - val_accuracy: 0.7969\n",
      "Epoch 77/100\n",
      "128/128 [==============================] - 0s 2ms/step - loss: 0.5052 - accuracy: 0.7958 - val_loss: 0.5014 - val_accuracy: 0.7969\n",
      "Epoch 78/100\n",
      "128/128 [==============================] - 0s 2ms/step - loss: 0.5052 - accuracy: 0.7958 - val_loss: 0.5013 - val_accuracy: 0.7969\n",
      "Epoch 79/100\n",
      "128/128 [==============================] - 0s 2ms/step - loss: 0.5052 - accuracy: 0.7958 - val_loss: 0.5013 - val_accuracy: 0.7969\n",
      "Epoch 80/100\n",
      "128/128 [==============================] - 0s 2ms/step - loss: 0.5052 - accuracy: 0.7958 - val_loss: 0.5014 - val_accuracy: 0.7969\n",
      "Epoch 81/100\n",
      "128/128 [==============================] - 0s 2ms/step - loss: 0.5052 - accuracy: 0.7958 - val_loss: 0.5013 - val_accuracy: 0.7969\n",
      "Epoch 82/100\n",
      "128/128 [==============================] - 0s 2ms/step - loss: 0.5051 - accuracy: 0.7958 - val_loss: 0.5013 - val_accuracy: 0.7969\n",
      "Epoch 83/100\n",
      "128/128 [==============================] - 0s 2ms/step - loss: 0.5052 - accuracy: 0.7958 - val_loss: 0.5013 - val_accuracy: 0.7969\n",
      "Epoch 84/100\n",
      "128/128 [==============================] - 0s 2ms/step - loss: 0.5051 - accuracy: 0.7958 - val_loss: 0.5015 - val_accuracy: 0.7969\n",
      "Epoch 85/100\n",
      "128/128 [==============================] - 0s 2ms/step - loss: 0.5051 - accuracy: 0.7958 - val_loss: 0.5014 - val_accuracy: 0.7969\n",
      "Epoch 86/100\n",
      "128/128 [==============================] - 0s 2ms/step - loss: 0.5051 - accuracy: 0.7958 - val_loss: 0.5013 - val_accuracy: 0.7969\n",
      "Epoch 87/100\n",
      "128/128 [==============================] - 0s 2ms/step - loss: 0.5052 - accuracy: 0.7958 - val_loss: 0.5013 - val_accuracy: 0.7969\n",
      "Epoch 88/100\n",
      "128/128 [==============================] - 0s 2ms/step - loss: 0.5051 - accuracy: 0.7958 - val_loss: 0.5016 - val_accuracy: 0.7969\n",
      "Epoch 89/100\n",
      "128/128 [==============================] - 0s 2ms/step - loss: 0.5051 - accuracy: 0.7958 - val_loss: 0.5014 - val_accuracy: 0.7969\n",
      "Epoch 90/100\n",
      "128/128 [==============================] - 0s 2ms/step - loss: 0.5052 - accuracy: 0.7958 - val_loss: 0.5015 - val_accuracy: 0.7969\n",
      "Epoch 91/100\n",
      "128/128 [==============================] - 0s 2ms/step - loss: 0.5052 - accuracy: 0.7958 - val_loss: 0.5019 - val_accuracy: 0.7969\n",
      "Epoch 92/100\n",
      "128/128 [==============================] - 0s 2ms/step - loss: 0.5051 - accuracy: 0.7958 - val_loss: 0.5013 - val_accuracy: 0.7969\n",
      "Epoch 93/100\n",
      "128/128 [==============================] - 0s 2ms/step - loss: 0.5052 - accuracy: 0.7958 - val_loss: 0.5013 - val_accuracy: 0.7969\n",
      "Epoch 94/100\n",
      "128/128 [==============================] - 0s 2ms/step - loss: 0.5053 - accuracy: 0.7958 - val_loss: 0.5014 - val_accuracy: 0.7969\n",
      "Epoch 95/100\n",
      "128/128 [==============================] - 0s 2ms/step - loss: 0.5052 - accuracy: 0.7958 - val_loss: 0.5013 - val_accuracy: 0.7969\n",
      "Epoch 96/100\n",
      "128/128 [==============================] - 0s 2ms/step - loss: 0.5052 - accuracy: 0.7958 - val_loss: 0.5013 - val_accuracy: 0.7969\n",
      "Epoch 97/100\n",
      "128/128 [==============================] - 0s 2ms/step - loss: 0.5053 - accuracy: 0.7958 - val_loss: 0.5013 - val_accuracy: 0.7969\n",
      "Epoch 98/100\n",
      "128/128 [==============================] - 0s 2ms/step - loss: 0.5052 - accuracy: 0.7958 - val_loss: 0.5013 - val_accuracy: 0.7969\n",
      "Epoch 99/100\n",
      "128/128 [==============================] - 0s 2ms/step - loss: 0.5052 - accuracy: 0.7958 - val_loss: 0.5013 - val_accuracy: 0.7969\n",
      "Epoch 100/100\n",
      "128/128 [==============================] - 0s 2ms/step - loss: 0.5052 - accuracy: 0.7958 - val_loss: 0.5013 - val_accuracy: 0.7969\n"
     ]
    }
   ],
   "source": [
    "history=model.fit(X_train,y_train,batch_size=50,epochs=100,verbose=1,validation_split=0.2)"
   ]
  },
  {
   "cell_type": "raw",
   "id": "152fb154",
   "metadata": {
    "papermill": {
     "duration": 0.162438,
     "end_time": "2025-09-07T13:23:44.137240",
     "exception": false,
     "start_time": "2025-09-07T13:23:43.974802",
     "status": "completed"
    },
    "tags": []
   },
   "source": []
  },
  {
   "cell_type": "code",
   "execution_count": 20,
   "id": "8da754c5",
   "metadata": {
    "execution": {
     "iopub.execute_input": "2025-09-07T13:23:44.470679Z",
     "iopub.status.busy": "2025-09-07T13:23:44.470055Z",
     "iopub.status.idle": "2025-09-07T13:23:44.675089Z",
     "shell.execute_reply": "2025-09-07T13:23:44.674390Z",
     "shell.execute_reply.started": "2025-09-07T13:19:20.135218Z"
    },
    "papermill": {
     "duration": 0.372919,
     "end_time": "2025-09-07T13:23:44.675238",
     "exception": false,
     "start_time": "2025-09-07T13:23:44.302319",
     "status": "completed"
    },
    "tags": []
   },
   "outputs": [],
   "source": [
    "y_pred=model.predict(X_test)"
   ]
  },
  {
   "cell_type": "code",
   "execution_count": 21,
   "id": "4bb086b2",
   "metadata": {
    "execution": {
     "iopub.execute_input": "2025-09-07T13:23:45.008451Z",
     "iopub.status.busy": "2025-09-07T13:23:45.007515Z",
     "iopub.status.idle": "2025-09-07T13:23:45.011955Z",
     "shell.execute_reply": "2025-09-07T13:23:45.011315Z",
     "shell.execute_reply.started": "2025-09-07T13:19:38.312540Z"
    },
    "papermill": {
     "duration": 0.174583,
     "end_time": "2025-09-07T13:23:45.012117",
     "exception": false,
     "start_time": "2025-09-07T13:23:44.837534",
     "status": "completed"
    },
    "tags": []
   },
   "outputs": [
    {
     "data": {
      "text/plain": [
       "array([[0.18664166],\n",
       "       [0.18664166],\n",
       "       [0.20427129],\n",
       "       ...,\n",
       "       [0.18664166],\n",
       "       [0.24528769],\n",
       "       [0.18664166]], dtype=float32)"
      ]
     },
     "execution_count": 21,
     "metadata": {},
     "output_type": "execute_result"
    }
   ],
   "source": [
    "y_pred"
   ]
  },
  {
   "cell_type": "code",
   "execution_count": 22,
   "id": "8ebc519b",
   "metadata": {
    "execution": {
     "iopub.execute_input": "2025-09-07T13:23:45.353100Z",
     "iopub.status.busy": "2025-09-07T13:23:45.352422Z",
     "iopub.status.idle": "2025-09-07T13:23:45.355542Z",
     "shell.execute_reply": "2025-09-07T13:23:45.355044Z",
     "shell.execute_reply.started": "2025-09-07T13:20:01.499948Z"
    },
    "papermill": {
     "duration": 0.176838,
     "end_time": "2025-09-07T13:23:45.355675",
     "exception": false,
     "start_time": "2025-09-07T13:23:45.178837",
     "status": "completed"
    },
    "tags": []
   },
   "outputs": [],
   "source": [
    "y_pred=y_pred.argmax(axis=-1)"
   ]
  },
  {
   "cell_type": "code",
   "execution_count": 23,
   "id": "bf4a744f",
   "metadata": {
    "execution": {
     "iopub.execute_input": "2025-09-07T13:23:45.690281Z",
     "iopub.status.busy": "2025-09-07T13:23:45.688355Z",
     "iopub.status.idle": "2025-09-07T13:23:45.696399Z",
     "shell.execute_reply": "2025-09-07T13:23:45.695895Z",
     "shell.execute_reply.started": "2025-09-07T13:20:43.559824Z"
    },
    "papermill": {
     "duration": 0.176728,
     "end_time": "2025-09-07T13:23:45.696544",
     "exception": false,
     "start_time": "2025-09-07T13:23:45.519816",
     "status": "completed"
    },
    "tags": []
   },
   "outputs": [
    {
     "data": {
      "text/plain": [
       "0.7975"
      ]
     },
     "execution_count": 23,
     "metadata": {},
     "output_type": "execute_result"
    }
   ],
   "source": [
    "from sklearn.metrics import accuracy_score\n",
    "accuracy_score(y_test,y_pred)"
   ]
  },
  {
   "cell_type": "code",
   "execution_count": 24,
   "id": "879e0974",
   "metadata": {
    "execution": {
     "iopub.execute_input": "2025-09-07T13:23:46.033804Z",
     "iopub.status.busy": "2025-09-07T13:23:46.032269Z",
     "iopub.status.idle": "2025-09-07T13:23:46.202473Z",
     "shell.execute_reply": "2025-09-07T13:23:46.202935Z",
     "shell.execute_reply.started": "2025-09-07T13:21:41.713705Z"
    },
    "papermill": {
     "duration": 0.341687,
     "end_time": "2025-09-07T13:23:46.203098",
     "exception": false,
     "start_time": "2025-09-07T13:23:45.861411",
     "status": "completed"
    },
    "tags": []
   },
   "outputs": [
    {
     "data": {
      "text/plain": [
       "[<matplotlib.lines.Line2D at 0x7a5e60160e50>]"
      ]
     },
     "execution_count": 24,
     "metadata": {},
     "output_type": "execute_result"
    },
    {
     "data": {
      "image/png": "[encoded data removed]",
      "text/plain": [
       "<Figure size 432x288 with 1 Axes>"
      ]
     },
     "metadata": {
      "needs_background": "light"
     },
     "output_type": "display_data"
    }
   ],
   "source": [
    "import matplotlib.pyplot as plt\n",
    "plt.plot(history.history['loss'])\n",
    "plt.plot(history.history['val_loss'])"
   ]
  },
  {
   "cell_type": "code",
   "execution_count": 25,
   "id": "8f8b9e54",
   "metadata": {
    "execution": {
     "iopub.execute_input": "2025-09-07T13:23:46.567094Z",
     "iopub.status.busy": "2025-09-07T13:23:46.558237Z",
     "iopub.status.idle": "2025-09-07T13:23:46.681306Z",
     "shell.execute_reply": "2025-09-07T13:23:46.680662Z",
     "shell.execute_reply.started": "2025-09-07T13:21:52.469925Z"
    },
    "papermill": {
     "duration": 0.310696,
     "end_time": "2025-09-07T13:23:46.681454",
     "exception": false,
     "start_time": "2025-09-07T13:23:46.370758",
     "status": "completed"
    },
    "tags": []
   },
   "outputs": [
    {
     "data": {
      "text/plain": [
       "[<matplotlib.lines.Line2D at 0x7a5e60d1e450>]"
      ]
     },
     "execution_count": 25,
     "metadata": {},
     "output_type": "execute_result"
    },
    {
     "data": {
      "image/png": "[encoded data removed]",
      "text/plain": [
       "<Figure size 432x288 with 1 Axes>"
      ]
     },
     "metadata": {
      "needs_background": "light"
     },
     "output_type": "display_data"
    }
   ],
   "source": [
    "plt.plot(history.history['accuracy'])\n",
    "plt.plot(history.history['val_accuracy'])"
   ]
  },
  {
   "cell_type": "code",
   "execution_count": null,
   "id": "b2906ddf",
   "metadata": {
    "papermill": {
     "duration": 0.166048,
     "end_time": "2025-09-07T13:23:47.014044",
     "exception": false,
     "start_time": "2025-09-07T13:23:46.847996",
     "status": "completed"
    },
    "tags": []
   },
   "outputs": [],
   "source": []
  }
 ],
 "metadata": {
  "kaggle": {
   "accelerator": "none",
   "dataSources": [
    {
     "datasetId": 869651,
     "sourceId": 1481789,
     "sourceType": "datasetVersion"
    }
   ],
   "dockerImageVersionId": 30170,
   "isGpuEnabled": false,
   "isInternetEnabled": false,
   "language": "python",
   "sourceType": "notebook"
  },
  "kernelspec": {
   "display_name": "Python 3",
   "language": "python",
   "name": "python3"
  },
  "language_info": {
   "codemirror_mode": {
    "name": "ipython",
    "version": 3
   },
   "file_extension": ".py",
   "mimetype": "text/x-python",
   "name": "python",
   "nbconvert_exporter": "python",
   "pygments_lexer": "ipython3",
   "version": "3.7.12"
  },
  "papermill": {
   "default_parameters": {},
   "duration": 50.672545,
   "end_time": "2025-09-07T13:23:50.252320",
   "environment_variables": {},
   "exception": null,
   "input_path": "__notebook__.ipynb",
   "output_path": "__notebook__.ipynb",
   "parameters": {},
   "start_time": "2025-09-07T13:22:59.579775",
   "version": "2.3.3"
  }
 },
 "nbformat": 4,
 "nbformat_minor": 5
}
